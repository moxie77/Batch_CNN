{
  "nbformat": 4,
  "nbformat_minor": 0,
  "metadata": {
    "colab": {
      "name": "Batchcnn2.ipynb",
      "provenance": []
    },
    "kernelspec": {
      "name": "python3",
      "display_name": "Python 3"
    },
    "accelerator": "GPU"
  },
  "cells": [
    {
      "cell_type": "code",
      "metadata": {
        "id": "NQ9ZMUYM86tN"
      },
      "source": [
        "import keras"
      ],
      "execution_count": 1,
      "outputs": []
    },
    {
      "cell_type": "code",
      "metadata": {
        "id": "FTjoJRau9CLJ"
      },
      "source": [
        "from keras.datasets import cifar10\n",
        "from keras.layers import Dense,Conv2D,MaxPool2D,Flatten,AveragePooling2D,Dropout,BatchNormalization,Activation\n",
        "from keras.models import Model,Input\n",
        "from keras.optimizers import Adam\n",
        "from keras.callbacks import LearningRateScheduler\n",
        "from keras.callbacks import ModelCheckpoint\n",
        "import os"
      ],
      "execution_count": 2,
      "outputs": []
    },
    {
      "cell_type": "code",
      "metadata": {
        "id": "eSJXNdUb9tyq"
      },
      "source": [
        "(x_train,y_train),(x_test,y_test) = cifar10.load_data()"
      ],
      "execution_count": 3,
      "outputs": []
    },
    {
      "cell_type": "code",
      "metadata": {
        "id": "IbfUcQk2-Iwz"
      },
      "source": [
        "x_train = x_train.astype('float32')/255\n",
        "x_test = x_test.astype('float32')/255"
      ],
      "execution_count": 4,
      "outputs": []
    },
    {
      "cell_type": "code",
      "metadata": {
        "colab": {
          "base_uri": "https://localhost:8080/"
        },
        "id": "uT05eIEx-aht",
        "outputId": "068af3aa-a372-4be1-878f-ac8259976ffb"
      },
      "source": [
        "print('Train Images',x_train.shape)\n",
        "print('Train Labels',y_train.shape)\n",
        "print('Test Images',x_test.shape)\n",
        "print('Test Labels',y_test.shape)"
      ],
      "execution_count": 5,
      "outputs": [
        {
          "output_type": "stream",
          "text": [
            "Train Images (50000, 32, 32, 3)\n",
            "Train Labels (50000, 1)\n",
            "Test Images (10000, 32, 32, 3)\n",
            "Test Labels (10000, 1)\n"
          ],
          "name": "stdout"
        }
      ]
    },
    {
      "cell_type": "code",
      "metadata": {
        "id": "UBp9TKxo-3-d"
      },
      "source": [
        "y_train = keras.utils.to_categorical(y_train,10)\n",
        "y_test = keras.utils.to_categorical(y_test,10)"
      ],
      "execution_count": 6,
      "outputs": []
    },
    {
      "cell_type": "code",
      "metadata": {
        "id": "4Exv23HQ_NMO"
      },
      "source": [
        "def MiniModel(input_shape):\n",
        "  images = Input(input_shape)\n",
        "\n",
        "  net = BatchNormalization()(images)\n",
        "  net = Activation('relu')(net)\n",
        "  net = Conv2D(filters=64,kernel_size=[3,3],strides=[1,1],padding='same')(net)\n",
        "\n",
        "  net = BatchNormalization()(net)\n",
        "  net = Activation('relu')(net)\n",
        "  net = Conv2D(filters=64,kernel_size=[3,3],strides=[1,1],padding='same')(net)\n",
        "\n",
        "  net = BatchNormalization()(net)\n",
        "  net = Activation('relu')(net)\n",
        "  net = Conv2D(filters=64,kernel_size=[3,3],strides=[1,1],padding='same',activation='relu')(net)\n",
        "  net = MaxPool2D(pool_size=(2,2))(net)\n",
        "\n",
        "  net = BatchNormalization()(net)\n",
        "  net = Activation('relu')(net)\n",
        "  net = Conv2D(filters=128,kernel_size=[3,3],strides=[1,1],padding='same',activation='relu')(net)\n",
        "\n",
        "  net = BatchNormalization()(net)\n",
        "  net = Activation('relu')(net)\n",
        "  net = Conv2D(filters=128,kernel_size=[3,3],strides=[1,1],padding='same',activation='relu')(net)\n",
        "\n",
        "  net = BatchNormalization()(net)\n",
        "  net = Activation('relu')(net)\n",
        "  net = Conv2D(filters=128,kernel_size=[3,3],strides=[1,1],padding='same',activation='relu')(net)\n",
        "  net = MaxPool2D(pool_size=(2,2))(net)\n",
        "\n",
        "  net = BatchNormalization()(net)\n",
        "  net = Activation('relu')(net)\n",
        "  net = Conv2D(filters=256,kernel_size=[3,3],strides=[1,1],padding='same',activation='relu')(net)\n",
        "\n",
        "  net = BatchNormalization()(net)\n",
        "  net = Activation('relu')(net)\n",
        "  net = Conv2D(filters=256,kernel_size=[3,3],strides=[1,1],padding='same',activation='relu')(net)\n",
        "\n",
        "  net = BatchNormalization()(net)\n",
        "  net = Activation('relu')(net)\n",
        "  net = Conv2D(filters=256,kernel_size=[3,3],strides=[1,1],padding='same',activation='relu')(net)\n",
        "\n",
        "\n",
        "  net = Dropout(0.25)(net)\n",
        "  net = AveragePooling2D(pool_size=(8,8))(net)\n",
        "  net = Flatten()(net)\n",
        "  net = Dense(units=10,activation='softmax')(net)\n",
        "\n",
        "  model = Model(inputs = images, outputs=net)\n",
        "\n",
        "  return model\n"
      ],
      "execution_count": 7,
      "outputs": []
    },
    {
      "cell_type": "code",
      "metadata": {
        "colab": {
          "base_uri": "https://localhost:8080/"
        },
        "id": "o1KXO2JtChcm",
        "outputId": "bbbd6c12-d7b4-4863-8435-3c3cee5f3ee0"
      },
      "source": [
        "input_shape = (32,32,3)\n",
        "model = MiniModel(input_shape)\n",
        "\n",
        "\n",
        "model.summary()"
      ],
      "execution_count": 8,
      "outputs": [
        {
          "output_type": "stream",
          "text": [
            "Model: \"functional_1\"\n",
            "_________________________________________________________________\n",
            "Layer (type)                 Output Shape              Param #   \n",
            "=================================================================\n",
            "input_1 (InputLayer)         [(None, 32, 32, 3)]       0         \n",
            "_________________________________________________________________\n",
            "batch_normalization (BatchNo (None, 32, 32, 3)         12        \n",
            "_________________________________________________________________\n",
            "activation (Activation)      (None, 32, 32, 3)         0         \n",
            "_________________________________________________________________\n",
            "conv2d (Conv2D)              (None, 32, 32, 64)        1792      \n",
            "_________________________________________________________________\n",
            "batch_normalization_1 (Batch (None, 32, 32, 64)        256       \n",
            "_________________________________________________________________\n",
            "activation_1 (Activation)    (None, 32, 32, 64)        0         \n",
            "_________________________________________________________________\n",
            "conv2d_1 (Conv2D)            (None, 32, 32, 64)        36928     \n",
            "_________________________________________________________________\n",
            "batch_normalization_2 (Batch (None, 32, 32, 64)        256       \n",
            "_________________________________________________________________\n",
            "activation_2 (Activation)    (None, 32, 32, 64)        0         \n",
            "_________________________________________________________________\n",
            "conv2d_2 (Conv2D)            (None, 32, 32, 64)        36928     \n",
            "_________________________________________________________________\n",
            "max_pooling2d (MaxPooling2D) (None, 16, 16, 64)        0         \n",
            "_________________________________________________________________\n",
            "batch_normalization_3 (Batch (None, 16, 16, 64)        256       \n",
            "_________________________________________________________________\n",
            "activation_3 (Activation)    (None, 16, 16, 64)        0         \n",
            "_________________________________________________________________\n",
            "conv2d_3 (Conv2D)            (None, 16, 16, 128)       73856     \n",
            "_________________________________________________________________\n",
            "batch_normalization_4 (Batch (None, 16, 16, 128)       512       \n",
            "_________________________________________________________________\n",
            "activation_4 (Activation)    (None, 16, 16, 128)       0         \n",
            "_________________________________________________________________\n",
            "conv2d_4 (Conv2D)            (None, 16, 16, 128)       147584    \n",
            "_________________________________________________________________\n",
            "batch_normalization_5 (Batch (None, 16, 16, 128)       512       \n",
            "_________________________________________________________________\n",
            "activation_5 (Activation)    (None, 16, 16, 128)       0         \n",
            "_________________________________________________________________\n",
            "conv2d_5 (Conv2D)            (None, 16, 16, 128)       147584    \n",
            "_________________________________________________________________\n",
            "max_pooling2d_1 (MaxPooling2 (None, 8, 8, 128)         0         \n",
            "_________________________________________________________________\n",
            "batch_normalization_6 (Batch (None, 8, 8, 128)         512       \n",
            "_________________________________________________________________\n",
            "activation_6 (Activation)    (None, 8, 8, 128)         0         \n",
            "_________________________________________________________________\n",
            "conv2d_6 (Conv2D)            (None, 8, 8, 256)         295168    \n",
            "_________________________________________________________________\n",
            "batch_normalization_7 (Batch (None, 8, 8, 256)         1024      \n",
            "_________________________________________________________________\n",
            "activation_7 (Activation)    (None, 8, 8, 256)         0         \n",
            "_________________________________________________________________\n",
            "conv2d_7 (Conv2D)            (None, 8, 8, 256)         590080    \n",
            "_________________________________________________________________\n",
            "batch_normalization_8 (Batch (None, 8, 8, 256)         1024      \n",
            "_________________________________________________________________\n",
            "activation_8 (Activation)    (None, 8, 8, 256)         0         \n",
            "_________________________________________________________________\n",
            "conv2d_8 (Conv2D)            (None, 8, 8, 256)         590080    \n",
            "_________________________________________________________________\n",
            "dropout (Dropout)            (None, 8, 8, 256)         0         \n",
            "_________________________________________________________________\n",
            "average_pooling2d (AveragePo (None, 1, 1, 256)         0         \n",
            "_________________________________________________________________\n",
            "flatten (Flatten)            (None, 256)               0         \n",
            "_________________________________________________________________\n",
            "dense (Dense)                (None, 10)                2570      \n",
            "=================================================================\n",
            "Total params: 1,926,934\n",
            "Trainable params: 1,924,752\n",
            "Non-trainable params: 2,182\n",
            "_________________________________________________________________\n"
          ],
          "name": "stdout"
        }
      ]
    },
    {
      "cell_type": "code",
      "metadata": {
        "id": "n1CQZnYoDGXL"
      },
      "source": [
        "def lr_schedule(epoch):\n",
        "  lr = 0.001\n",
        "  if epoch > 15:\n",
        "    lr = lr/100\n",
        "  elif epoch > 10:\n",
        "    lr = lr/10\n",
        "  elif epoch > 5:\n",
        "    lr = lr / 5\n",
        "  print(\"Learning rate: \",lr)\n",
        "  return lr"
      ],
      "execution_count": 9,
      "outputs": []
    },
    {
      "cell_type": "code",
      "metadata": {
        "id": "dN6jniUoDuuG"
      },
      "source": [
        "lr_scheduler = LearningRateScheduler(lr_schedule)"
      ],
      "execution_count": 10,
      "outputs": []
    },
    {
      "cell_type": "code",
      "metadata": {
        "id": "p7lScR0OEHnv"
      },
      "source": [
        "save_dir = os.path.join(os.getcwd(), 'cifar10savemodels')\n",
        "\n",
        "model_name = 'cifar10model.{epoch:03d}.h5'"
      ],
      "execution_count": 11,
      "outputs": []
    },
    {
      "cell_type": "code",
      "metadata": {
        "colab": {
          "base_uri": "https://localhost:8080/"
        },
        "id": "N7FiYw2OEpVV",
        "outputId": "3a4a810f-18a5-42ec-aa5e-e63f4f4009c9"
      },
      "source": [
        "if not os.path.join(save_dir):\n",
        "  os.makedirs(save_dir)\n",
        "\n",
        "modelpath = os.path.join(save_dir,model_name)\n",
        "\n",
        "checkpoint = ModelCheckpoint(filepath= modelpath,\n",
        "                             monitor='val_acc',\n",
        "                             verbose = 1,\n",
        "                             save_best_only = True,\n",
        "                             period = 1)"
      ],
      "execution_count": 12,
      "outputs": [
        {
          "output_type": "stream",
          "text": [
            "WARNING:tensorflow:`period` argument is deprecated. Please use `save_freq` to specify the frequency in number of batches seen.\n"
          ],
          "name": "stdout"
        }
      ]
    },
    {
      "cell_type": "code",
      "metadata": {
        "colab": {
          "base_uri": "https://localhost:8080/"
        },
        "id": "M5hG92qeFyEB",
        "outputId": "b397f856-49cf-4dad-fb58-70ae964c48b8"
      },
      "source": [
        "model.compile(optimizer=Adam(lr_schedule(0)),loss='categorical_crossentropy',metrics=['accuracy'])"
      ],
      "execution_count": 13,
      "outputs": [
        {
          "output_type": "stream",
          "text": [
            "Learning rate:  0.001\n"
          ],
          "name": "stdout"
        }
      ]
    },
    {
      "cell_type": "code",
      "metadata": {
        "colab": {
          "base_uri": "https://localhost:8080/"
        },
        "id": "dEU117jEGRnU",
        "outputId": "1c841542-a1cf-4fc1-d613-a8e652194481"
      },
      "source": [
        "model.fit(x_train,y_train,batch_size=128,epochs=20,shuffle=True,validation_split=0.1,verbose=1,callbacks=[checkpoint,lr_scheduler])\n",
        "\n",
        "accuracy = model.evaluate(x=x_test,y=y_test,batch_size=128)\n",
        "print(\"Accuracy\", accuracy[1])"
      ],
      "execution_count": 14,
      "outputs": [
        {
          "output_type": "stream",
          "text": [
            "Learning rate:  0.001\n",
            "Epoch 1/20\n",
            "352/352 [==============================] - ETA: 0s - loss: 1.5305 - accuracy: 0.4475WARNING:tensorflow:Can save best model only with val_acc available, skipping.\n",
            "352/352 [==============================] - 17s 49ms/step - loss: 1.5305 - accuracy: 0.4475 - val_loss: 2.1052 - val_accuracy: 0.3052\n",
            "Learning rate:  0.001\n",
            "Epoch 2/20\n",
            "351/352 [============================>.] - ETA: 0s - loss: 1.0098 - accuracy: 0.6423WARNING:tensorflow:Can save best model only with val_acc available, skipping.\n",
            "352/352 [==============================] - 17s 48ms/step - loss: 1.0091 - accuracy: 0.6426 - val_loss: 1.3853 - val_accuracy: 0.5566\n",
            "Learning rate:  0.001\n",
            "Epoch 3/20\n",
            "351/352 [============================>.] - ETA: 0s - loss: 0.6990 - accuracy: 0.7576WARNING:tensorflow:Can save best model only with val_acc available, skipping.\n",
            "352/352 [==============================] - 17s 48ms/step - loss: 0.6989 - accuracy: 0.7576 - val_loss: 0.9752 - val_accuracy: 0.6734\n",
            "Learning rate:  0.001\n",
            "Epoch 4/20\n",
            "351/352 [============================>.] - ETA: 0s - loss: 0.5171 - accuracy: 0.8194WARNING:tensorflow:Can save best model only with val_acc available, skipping.\n",
            "352/352 [==============================] - 17s 47ms/step - loss: 0.5173 - accuracy: 0.8193 - val_loss: 0.8181 - val_accuracy: 0.7308\n",
            "Learning rate:  0.001\n",
            "Epoch 5/20\n",
            "351/352 [============================>.] - ETA: 0s - loss: 0.3999 - accuracy: 0.8596WARNING:tensorflow:Can save best model only with val_acc available, skipping.\n",
            "352/352 [==============================] - 17s 47ms/step - loss: 0.3996 - accuracy: 0.8597 - val_loss: 0.6620 - val_accuracy: 0.7790\n",
            "Learning rate:  0.001\n",
            "Epoch 6/20\n",
            "351/352 [============================>.] - ETA: 0s - loss: 0.3089 - accuracy: 0.8912WARNING:tensorflow:Can save best model only with val_acc available, skipping.\n",
            "352/352 [==============================] - 17s 47ms/step - loss: 0.3091 - accuracy: 0.8911 - val_loss: 0.5735 - val_accuracy: 0.8070\n",
            "Learning rate:  0.0002\n",
            "Epoch 7/20\n",
            "352/352 [==============================] - ETA: 0s - loss: 0.1354 - accuracy: 0.9555WARNING:tensorflow:Can save best model only with val_acc available, skipping.\n",
            "352/352 [==============================] - 17s 48ms/step - loss: 0.1354 - accuracy: 0.9555 - val_loss: 0.4917 - val_accuracy: 0.8480\n",
            "Learning rate:  0.0002\n",
            "Epoch 8/20\n",
            "352/352 [==============================] - ETA: 0s - loss: 0.0690 - accuracy: 0.9794WARNING:tensorflow:Can save best model only with val_acc available, skipping.\n",
            "352/352 [==============================] - 17s 47ms/step - loss: 0.0690 - accuracy: 0.9794 - val_loss: 0.5014 - val_accuracy: 0.8540\n",
            "Learning rate:  0.0002\n",
            "Epoch 9/20\n",
            "352/352 [==============================] - ETA: 0s - loss: 0.0360 - accuracy: 0.9912WARNING:tensorflow:Can save best model only with val_acc available, skipping.\n",
            "352/352 [==============================] - 17s 47ms/step - loss: 0.0360 - accuracy: 0.9912 - val_loss: 0.5744 - val_accuracy: 0.8546\n",
            "Learning rate:  0.0002\n",
            "Epoch 10/20\n",
            "351/352 [============================>.] - ETA: 0s - loss: 0.0182 - accuracy: 0.9970WARNING:tensorflow:Can save best model only with val_acc available, skipping.\n",
            "352/352 [==============================] - 17s 47ms/step - loss: 0.0182 - accuracy: 0.9970 - val_loss: 0.6144 - val_accuracy: 0.8574\n",
            "Learning rate:  0.0002\n",
            "Epoch 11/20\n",
            "351/352 [============================>.] - ETA: 0s - loss: 0.0097 - accuracy: 0.9988WARNING:tensorflow:Can save best model only with val_acc available, skipping.\n",
            "352/352 [==============================] - 17s 47ms/step - loss: 0.0097 - accuracy: 0.9988 - val_loss: 0.6889 - val_accuracy: 0.8530\n",
            "Learning rate:  0.0001\n",
            "Epoch 12/20\n",
            "352/352 [==============================] - ETA: 0s - loss: 0.0057 - accuracy: 0.9994WARNING:tensorflow:Can save best model only with val_acc available, skipping.\n",
            "352/352 [==============================] - 17s 47ms/step - loss: 0.0057 - accuracy: 0.9994 - val_loss: 0.6904 - val_accuracy: 0.8566\n",
            "Learning rate:  0.0001\n",
            "Epoch 13/20\n",
            "351/352 [============================>.] - ETA: 0s - loss: 0.0041 - accuracy: 0.9997WARNING:tensorflow:Can save best model only with val_acc available, skipping.\n",
            "352/352 [==============================] - 17s 47ms/step - loss: 0.0041 - accuracy: 0.9997 - val_loss: 0.7107 - val_accuracy: 0.8574\n",
            "Learning rate:  0.0001\n",
            "Epoch 14/20\n",
            "352/352 [==============================] - ETA: 0s - loss: 0.0031 - accuracy: 0.9998WARNING:tensorflow:Can save best model only with val_acc available, skipping.\n",
            "352/352 [==============================] - 17s 47ms/step - loss: 0.0031 - accuracy: 0.9998 - val_loss: 0.7178 - val_accuracy: 0.8572\n",
            "Learning rate:  0.0001\n",
            "Epoch 15/20\n",
            "352/352 [==============================] - ETA: 0s - loss: 0.0026 - accuracy: 0.9999WARNING:tensorflow:Can save best model only with val_acc available, skipping.\n",
            "352/352 [==============================] - 17s 47ms/step - loss: 0.0026 - accuracy: 0.9999 - val_loss: 0.7536 - val_accuracy: 0.8548\n",
            "Learning rate:  0.0001\n",
            "Epoch 16/20\n",
            "352/352 [==============================] - ETA: 0s - loss: 0.0019 - accuracy: 0.9999WARNING:tensorflow:Can save best model only with val_acc available, skipping.\n",
            "352/352 [==============================] - 17s 47ms/step - loss: 0.0019 - accuracy: 0.9999 - val_loss: 0.7744 - val_accuracy: 0.8556\n",
            "Learning rate:  1e-05\n",
            "Epoch 17/20\n",
            "352/352 [==============================] - ETA: 0s - loss: 0.0015 - accuracy: 0.9999WARNING:tensorflow:Can save best model only with val_acc available, skipping.\n",
            "352/352 [==============================] - 17s 47ms/step - loss: 0.0015 - accuracy: 0.9999 - val_loss: 0.7697 - val_accuracy: 0.8580\n",
            "Learning rate:  1e-05\n",
            "Epoch 18/20\n",
            "351/352 [============================>.] - ETA: 0s - loss: 0.0014 - accuracy: 0.9999WARNING:tensorflow:Can save best model only with val_acc available, skipping.\n",
            "352/352 [==============================] - 17s 47ms/step - loss: 0.0014 - accuracy: 0.9999 - val_loss: 0.7703 - val_accuracy: 0.8566\n",
            "Learning rate:  1e-05\n",
            "Epoch 19/20\n",
            "351/352 [============================>.] - ETA: 0s - loss: 0.0013 - accuracy: 1.0000WARNING:tensorflow:Can save best model only with val_acc available, skipping.\n",
            "352/352 [==============================] - 17s 47ms/step - loss: 0.0013 - accuracy: 1.0000 - val_loss: 0.7711 - val_accuracy: 0.8584\n",
            "Learning rate:  1e-05\n",
            "Epoch 20/20\n",
            "352/352 [==============================] - ETA: 0s - loss: 0.0013 - accuracy: 1.0000WARNING:tensorflow:Can save best model only with val_acc available, skipping.\n",
            "352/352 [==============================] - 17s 47ms/step - loss: 0.0013 - accuracy: 1.0000 - val_loss: 0.7735 - val_accuracy: 0.8578\n",
            "79/79 [==============================] - 1s 15ms/step - loss: 0.8008 - accuracy: 0.8560\n",
            "Accuracy 0.8560000061988831\n"
          ],
          "name": "stdout"
        }
      ]
    },
    {
      "cell_type": "code",
      "metadata": {
        "id": "8XHGXaLVaKsr"
      },
      "source": [
        ""
      ],
      "execution_count": null,
      "outputs": []
    },
    {
      "cell_type": "code",
      "metadata": {
        "id": "CyKwqkzgGzoP"
      },
      "source": [
        ""
      ],
      "execution_count": null,
      "outputs": []
    }
  ]
}